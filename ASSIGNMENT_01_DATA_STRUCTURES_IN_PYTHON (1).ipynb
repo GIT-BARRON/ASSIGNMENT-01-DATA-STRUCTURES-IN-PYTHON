{
  "nbformat": 4,
  "nbformat_minor": 0,
  "metadata": {
    "colab": {
      "provenance": []
    },
    "kernelspec": {
      "name": "python3",
      "display_name": "Python 3"
    },
    "language_info": {
      "name": "python"
    }
  },
  "cells": [
    {
      "cell_type": "markdown",
      "source": [
        "**Q1.Write a Code to Reverse a String**"
      ],
      "metadata": {
        "id": "KWMy7kXkepzE"
      }
    },
    {
      "cell_type": "code",
      "source": [
        "st=\"Hello I am a Student\"\n",
        "print(f\"Original String : {st} \\n Reversed Form : {st[::-1]}\")"
      ],
      "metadata": {
        "colab": {
          "base_uri": "https://localhost:8080/"
        },
        "id": "m81lHiRKezdZ",
        "outputId": "342cc30f-d4e5-4363-e7b8-d62479a3c1f3"
      },
      "execution_count": null,
      "outputs": [
        {
          "output_type": "stream",
          "name": "stdout",
          "text": [
            "Original String : Hello I am a Student \n",
            " Reversed Form : tnedutS a ma I olleH\n"
          ]
        }
      ]
    },
    {
      "cell_type": "markdown",
      "source": [
        "**Q2. Write a code to count the Number of Vowels in a String**"
      ],
      "metadata": {
        "id": "Ua3VcKR6fZUk"
      }
    },
    {
      "cell_type": "code",
      "source": [
        "d={}; s=\"My name is Abir and I am a Data Science student\"\n",
        "d=d.fromkeys(('a','e','i','o','u'),0)   # creates a dict with individual keys as letters of the vowel and assigning a default value of count 0 for each vowel\n",
        "for i in (('a','e','i','o','u')):  # iterates over the tuple of vowels\n",
        "  d[i]=d[i]+s.count(i)   # counts the frequency of each vowel in the input string\n",
        "\n",
        "print(f\"Vowels\\t\\tCount\")  #printing vowels and their frequency\n",
        "for i in d.keys():\n",
        "  print(f\"{i}\\t\\t\\t{d[i]}\")"
      ],
      "metadata": {
        "colab": {
          "base_uri": "https://localhost:8080/"
        },
        "id": "YfPpDuY0fYny",
        "outputId": "a7a6b209-36d7-4a38-b74c-ce96c6ca7b70"
      },
      "execution_count": null,
      "outputs": [
        {
          "output_type": "stream",
          "name": "stdout",
          "text": [
            "Vowels\t\tCount\n",
            "a\t\t\t6\n",
            "e\t\t\t4\n",
            "i\t\t\t3\n",
            "o\t\t\t0\n",
            "u\t\t\t1\n"
          ]
        }
      ]
    },
    {
      "cell_type": "markdown",
      "source": [
        "**Q3. Write a code to check if a given String is Palindrome or not**"
      ],
      "metadata": {
        "id": "y4wpbxwRi23p"
      }
    },
    {
      "cell_type": "code",
      "source": [
        "st=(\"ARORA\",\"APPLE\")  # A tuple of sample strings to check out for Palindrome\n",
        "for i in st:\n",
        "  if(i.lower()==i[::-1].lower()): # condition to check for Palindrome\n",
        "    print(f\"The string {i} is PALINDROME \")\n",
        "  else:\n",
        "    print(f\"The String {i} is NOT PALINDROME \")"
      ],
      "metadata": {
        "colab": {
          "base_uri": "https://localhost:8080/"
        },
        "id": "ziuI9JRwjAbI",
        "outputId": "abde2264-63d1-4c37-9d2a-1f2944e434cd"
      },
      "execution_count": null,
      "outputs": [
        {
          "output_type": "stream",
          "name": "stdout",
          "text": [
            "The string ARORA is PALINDROME \n",
            "The String APPLE is NOT PALINDROME \n"
          ]
        }
      ]
    },
    {
      "cell_type": "markdown",
      "source": [
        "**Q4. Write a code to check if two given strings are Aanagarms of each other**      "
      ],
      "metadata": {
        "id": "HlUoMfTTjva3"
      }
    },
    {
      "cell_type": "code",
      "source": [
        "st=[(\"Apple\",\"eAlpp\"),(\"bad\",\"dad\"),(\"rat\",\"tar\")]  # a list contating a pair of string to check for Aanagrams\n",
        "j=[];k=[]\n",
        "for i in st: # loop to iterate over the sample strings\n",
        "  j=list(i[0]);k=list(i[1]); j.sort() ; k.sort()   #convert the sample string to list and sorts them\n",
        "  if(j==k): #condition to check for ANAGRAMS\n",
        "    print(f\"{i[0]} and {i[1]} are ANAGRAMS of Each other \")\n",
        "  else:\n",
        "    print(f\"{i[0]} and {i[1]} are NOT ANAGRAMS of Each other \")"
      ],
      "metadata": {
        "colab": {
          "base_uri": "https://localhost:8080/"
        },
        "id": "XJ1tJbGqkQtg",
        "outputId": "d38777b6-79ea-480c-ffc9-f8d6529ce254"
      },
      "execution_count": null,
      "outputs": [
        {
          "output_type": "stream",
          "name": "stdout",
          "text": [
            "Apple and eAlpp are ANAGRAMS of Each other \n",
            "bad and dad are NOT ANAGRAMS of Each other \n",
            "rat and tar are ANAGRAMS of Each other \n"
          ]
        }
      ]
    },
    {
      "cell_type": "markdown",
      "source": [
        "**Q5. Write a code to find all occurrences of a given substring within another string**"
      ],
      "metadata": {
        "id": "OaffUA-OsSks"
      }
    },
    {
      "cell_type": "code",
      "source": [],
      "metadata": {
        "id": "8ZN4tqnHsvU_"
      },
      "execution_count": null,
      "outputs": []
    },
    {
      "cell_type": "markdown",
      "source": [
        "**Q6. Write a code to perfrom basic string compression using the count of repeated character**"
      ],
      "metadata": {
        "id": "E62scWYvs_B4"
      }
    },
    {
      "cell_type": "code",
      "source": [],
      "metadata": {
        "id": "qvEMwMdjuWos"
      },
      "execution_count": null,
      "outputs": []
    },
    {
      "cell_type": "markdown",
      "source": [
        "**Q7. Write a code to determine if a string has all unique character**"
      ],
      "metadata": {
        "id": "mGga5Di5uXBE"
      }
    },
    {
      "cell_type": "code",
      "source": [
        "st=(\"sky\",\"apple\",\"open\",\"banana\")  #tuple of sample strings to check for unique characters\n",
        "for i in st:\n",
        "  if((len(list(i)))==(len(set(i)))):   #condition to check for unique character\n",
        "    print(f\"The string {i} has all Unique Characters\")\n",
        "  else:\n",
        "    print(f\"The string {i} has Non-Unique Characters\")"
      ],
      "metadata": {
        "colab": {
          "base_uri": "https://localhost:8080/"
        },
        "id": "vkmwlrhcuqpl",
        "outputId": "dcda3807-a2a9-4069-f225-661f8929fec3"
      },
      "execution_count": null,
      "outputs": [
        {
          "output_type": "stream",
          "name": "stdout",
          "text": [
            "The string sky has all Unique Characters\n",
            "The string apple has Non-Unique Characters\n",
            "The string open has all Unique Characters\n",
            "The string banana has Non-Unique Characters\n"
          ]
        }
      ]
    },
    {
      "cell_type": "markdown",
      "source": [
        "**Q8. Write a code to convert a Given string to Upper Case or Lower Case**"
      ],
      "metadata": {
        "id": "XyrvqGH253qx"
      }
    },
    {
      "cell_type": "code",
      "source": [
        "s=\"Hello I am a aspiring Data Science student in PW Skiils\"\n",
        "print(f\"The given string -> {s} to Lower Case --> {s.lower()}\")\n",
        "print(f\"The given string -> {s} to Upper Case --> {s.upper()}\")"
      ],
      "metadata": {
        "colab": {
          "base_uri": "https://localhost:8080/"
        },
        "id": "U2RLwqFY53dB",
        "outputId": "122d4e4b-9f8f-4461-d168-021572e62684"
      },
      "execution_count": null,
      "outputs": [
        {
          "output_type": "stream",
          "name": "stdout",
          "text": [
            "The given string -> Hello I am a aspiring Data Science student in PW Skiils to Lower Case --> hello i am a aspiring data science student in pw skiils\n",
            "The given string -> Hello I am a aspiring Data Science student in PW Skiils to Upper Case --> HELLO I AM A ASPIRING DATA SCIENCE STUDENT IN PW SKIILS\n"
          ]
        }
      ]
    },
    {
      "cell_type": "markdown",
      "source": [
        "**Q9. Write a code to count the number of words in a String**"
      ],
      "metadata": {
        "id": "fYohOl_l6dne"
      }
    },
    {
      "cell_type": "code",
      "source": [
        "s=\"\"\"Hello all my cat name is Zophie.Zophie is a persian cat brought from Canada under full documentation.\n",
        "Zophie likes to eat fish,milk.\"\"\"\n",
        "t=\"\";count=0;lst=[];\n",
        "\n",
        "for i in s:\n",
        "  if(i!=' ' and i!='\\n' and i!='!' and i!=',' and i!=':' and i!='.' and i!=';'):\n",
        "    t=t+i   # extracts out each word from the string\n",
        "  else:\n",
        "    lst.append(t);t=\"\"  # appends all the words into the list\n",
        "\n",
        "for i in ('',' '):\n",
        "    for j in range(lst.count(i)):\n",
        "        lst.remove(i)  #removes any extra unnecessary \"\" or \" \" if entered the list\n",
        "print(f\"The Total Number of Words in the String are : {len(lst)}\")"
      ],
      "metadata": {
        "colab": {
          "base_uri": "https://localhost:8080/"
        },
        "id": "BhNtVAwE6dHw",
        "outputId": "b4d65608-e6c7-4f62-85e8-6ee663d577db"
      },
      "execution_count": null,
      "outputs": [
        {
          "output_type": "stream",
          "name": "stdout",
          "text": [
            "The Total Number of Words in the String are : 24\n"
          ]
        }
      ]
    },
    {
      "cell_type": "markdown",
      "source": [
        "**Q10. Write a code to concatinate two Strings without using the plus(+) operator**"
      ],
      "metadata": {
        "id": "4YUWuDbWhTG0"
      }
    },
    {
      "cell_type": "code",
      "source": [
        "s1=\"Hello Data Science Student ! From where you are studying data science ?\"\n",
        "s2=\"PW skills is guiding and supporting me to become a Data Scientist\"\n",
        "\n",
        "lst1=[];lst2=[]   # craeting two empty list\n",
        "lst1=list(s1);lst2=list(s2);lst1.extend(lst2)  # converting the two strings to list and then extending the 1st list with the 2nd One\n",
        "\n",
        "print(f\"\"\"Concatinating two strings without + operator ---> \"{\"\".join(lst1)}\" \"\"\")"
      ],
      "metadata": {
        "colab": {
          "base_uri": "https://localhost:8080/"
        },
        "id": "XAZ9uhEOheZs",
        "outputId": "7fb5d5a1-8dc3-4973-ad5d-9a0e09843e4f"
      },
      "execution_count": null,
      "outputs": [
        {
          "output_type": "stream",
          "name": "stdout",
          "text": [
            "Concatinating two strings without + operator ---> \"Hello Data Science Student ! From where you are studying data science ?PW skills is guiding and supporting me to become a Data Scientist\" \n"
          ]
        }
      ]
    },
    {
      "cell_type": "markdown",
      "source": [
        "**Q11. Write a code to remove all ocurrence of a specific element from a list**"
      ],
      "metadata": {
        "id": "FffIbjOdk8nT"
      }
    },
    {
      "cell_type": "code",
      "source": [
        "lst=[14, 12, 11, 14, 13, 11, 12, 14, 11, 11, 11, 15, 11, 15, 14, 13, 14, 15, 11, 13, 13, 14, 14, 14, 14] # a random list with repeated integer elements\n",
        "target=11 # a target element to remove its ocurrence from the list\n",
        "\n",
        "print(f\"List Before removal of target element-->{target} : {lst} \")\n",
        "\n",
        "if(target in lst):  # to check if the target element exists in the List or not\n",
        "  for i in range(lst.count(target)):\n",
        "    lst.remove(target)   #removing all the occurrence of the target element\n",
        "  print(f\"List After removal of target element-->{target} : {lst} \")\n",
        "else :\n",
        "  print(f\"Target element {target} not present in list\")"
      ],
      "metadata": {
        "colab": {
          "base_uri": "https://localhost:8080/"
        },
        "id": "vQ21XutYlKtL",
        "outputId": "a0fd1b74-a90b-4b9c-dd6e-5e1de4122ca0"
      },
      "execution_count": null,
      "outputs": [
        {
          "output_type": "stream",
          "name": "stdout",
          "text": [
            "List Before removal of target element-->11 : [14, 12, 11, 14, 13, 11, 12, 14, 11, 11, 11, 15, 11, 15, 14, 13, 14, 15, 11, 13, 13, 14, 14, 14, 14] \n",
            "List After removal of target element-->11 : [14, 12, 14, 13, 12, 14, 15, 15, 14, 13, 14, 15, 13, 13, 14, 14, 14, 14] \n"
          ]
        }
      ]
    },
    {
      "cell_type": "markdown",
      "source": [
        "**Q12. Implement a code to find the 2nd Largest number in the given list of Integers**"
      ],
      "metadata": {
        "id": "1OeUUb1yoAX1"
      }
    },
    {
      "cell_type": "code",
      "source": [
        "lst=[25, 28, 18, 27, 12, 23, 12, 24, 29, 22, 19, 15, 11, 19, 28, 20, 27, 22, 19, 29, 21, 11, 24, 23, 24, 22, 28, 16, 14, 15] #List of integer elements\n",
        "s=set(lst)  #converts the list to set\n",
        "s.remove(max(lst))  # removes the maximum elemnt from the set\n",
        "print(f\"The 2nd Largest Element in the list {lst} is ---> {max(s)}\")"
      ],
      "metadata": {
        "colab": {
          "base_uri": "https://localhost:8080/"
        },
        "id": "ig825pBKoPaa",
        "outputId": "9ed6a4af-2a42-4e75-81de-453c3e0b536e"
      },
      "execution_count": null,
      "outputs": [
        {
          "output_type": "stream",
          "name": "stdout",
          "text": [
            "The 2nd Largest Element in the list [25, 28, 18, 27, 12, 23, 12, 24, 29, 22, 19, 15, 11, 19, 28, 20, 27, 22, 19, 29, 21, 11, 24, 23, 24, 22, 28, 16, 14, 15] is ---> 28\n"
          ]
        }
      ]
    },
    {
      "cell_type": "markdown",
      "source": [
        "**Q13. Create a code to count the occurrences of each element in a list and return a dictionary with elements as keys and their counts as values.**\n"
      ],
      "metadata": {
        "id": "jvhrX0mop7GO"
      }
    },
    {
      "cell_type": "code",
      "source": [
        "lst=[25, 28, 18, 27, 12, 23, 12, 24, 29, 22, 19, 15, 11, 19, 28, 20, 27, 22, 19, 29, 21, 11, 24, 23, 24, 22, 28, 16, 14, 15 , 11] #List of integer elements\n",
        "di={}; di=di.fromkeys(set(lst),0)  # craeting keys for the dict by taking all the unique elemnts from the list\n",
        "\n",
        "for i in (di.keys()):\n",
        "  di[i]=di[i]+lst.count(i)   # For loop to count the occurence of each keys\n",
        "\n",
        "print(f\"Elements\\t\\tCount\")\n",
        "for i in di.keys():\n",
        "  print(f\"{i}\\t\\t\\t{di[i]}\")"
      ],
      "metadata": {
        "colab": {
          "base_uri": "https://localhost:8080/"
        },
        "id": "UFR0LQjgrHrz",
        "outputId": "24d14fab-fa71-4611-c6aa-83a13e536d20"
      },
      "execution_count": null,
      "outputs": [
        {
          "output_type": "stream",
          "name": "stdout",
          "text": [
            "Elements\t\tCount\n",
            "11\t\t\t3\n",
            "12\t\t\t2\n",
            "14\t\t\t1\n",
            "15\t\t\t2\n",
            "16\t\t\t1\n",
            "18\t\t\t1\n",
            "19\t\t\t3\n",
            "20\t\t\t1\n",
            "21\t\t\t1\n",
            "22\t\t\t3\n",
            "23\t\t\t2\n",
            "24\t\t\t3\n",
            "25\t\t\t1\n",
            "27\t\t\t2\n",
            "28\t\t\t3\n",
            "29\t\t\t2\n"
          ]
        }
      ]
    },
    {
      "cell_type": "markdown",
      "source": [
        "**Q14 Write a code to reverse a list in-place without using any built-in reverse functions.**"
      ],
      "metadata": {
        "id": "d06bu1yDt0Rm"
      }
    },
    {
      "cell_type": "code",
      "source": [
        "lst=[complex(4,23),22, 16, 29, 18, 28, 23, \"Bob\", 22, 18, 16, 12, 18, 18, 28, 15, 23 , \"Bob\" ,\"CAT\"] # List of various elemnts\n",
        "\n",
        "print(f\"Before Reverse --> {lst}\")\n",
        "for i in range(len(lst)//2):\n",
        "  t=lst[i]                                   #Logic for In-Place reverse\n",
        "  lst[i]=lst[len(lst)-i-1]\n",
        "  lst[len(lst)-i-1]=t\n",
        "print(f\"After Reverse --> {lst}\")"
      ],
      "metadata": {
        "colab": {
          "base_uri": "https://localhost:8080/"
        },
        "id": "M3iHZ_e2t5am",
        "outputId": "2b9382dd-089c-4070-b9c3-60670906f642"
      },
      "execution_count": null,
      "outputs": [
        {
          "output_type": "stream",
          "name": "stdout",
          "text": [
            "Before Reverse --> [(4+23j), 22, 16, 29, 18, 28, 23, 'Bob', 22, 18, 16, 12, 18, 18, 28, 15, 23, 'Bob', 'CAT']\n",
            "After Reverse --> ['CAT', 'Bob', 23, 15, 28, 18, 18, 12, 16, 18, 22, 'Bob', 23, 28, 18, 29, 16, 22, (4+23j)]\n"
          ]
        }
      ]
    },
    {
      "cell_type": "markdown",
      "source": [
        "**Q15. Implement a code to find and remove duplicates from a list while preserving the original order of elements.**"
      ],
      "metadata": {
        "id": "l81cmevlw6tZ"
      }
    },
    {
      "cell_type": "code",
      "source": [
        "lst=[complex(4,23),22, 16, 29, 18, 28, 23, \"Bob\", 22, 18, 16, 12, 18, 18, 28, 15, 23 , \"Bob\" ,\"CAT\"]\n",
        "lst.reverse()\n",
        "\n",
        "print(f\"Before removal of duplicate --> {lst}\")\n",
        "for i in lst:\n",
        "  if(lst.count(i)>1):  # remove only the duplicate elements\n",
        "    for j in range(lst.count(i)-1):\n",
        "      lst.remove(i)  # removal of the duplicate or extra elements of the same value\n",
        "lst.reverse()\n",
        "print(f\"After removal of duplicate -->{lst}\")"
      ],
      "metadata": {
        "colab": {
          "base_uri": "https://localhost:8080/"
        },
        "id": "RlpKu3eBxApR",
        "outputId": "5f4f3f7a-6b9b-43de-daa5-415b5b1f9f9c"
      },
      "execution_count": null,
      "outputs": [
        {
          "output_type": "stream",
          "name": "stdout",
          "text": [
            "Before removal of duplicate --> ['CAT', 'Bob', 23, 15, 28, 18, 18, 12, 16, 18, 22, 'Bob', 23, 28, 18, 29, 16, 22, (4+23j)]\n",
            "After removal of duplicate -->[(4+23j), 22, 16, 29, 18, 28, 23, 'Bob', 12, 15, 'CAT']\n"
          ]
        }
      ]
    },
    {
      "cell_type": "markdown",
      "source": [
        "**Q16. Create a code to check if a given list is sorted (either in ascending or descending order) or not.**"
      ],
      "metadata": {
        "id": "Bvfc6Ssj0EeK"
      }
    },
    {
      "cell_type": "code",
      "source": [
        "tu=([14, 15, 17, 17, 19, 19, 19],[17, 18, 16, 18, 18, 18, 15],[19, 18, 17, 14, 14])  # A tuple of sample list to test for Ascending or Descending or shuffled\n",
        "\n",
        "for i in tu:\n",
        "  t=i.copy();t.sort()   # creates a copy of the list and sorts is Ascendingly\n",
        "  print(i,end='--->')\n",
        "  if(i==t):   # checks for Ascending order sort\n",
        "    print(\"Sorted Ascending Order\")\n",
        "  else:\n",
        "    t.sort(reverse=True)  #sorts list in Descending order\n",
        "    if(i==t):  # checks for Descending order sort\n",
        "      print(\"Sorted Descending Order\")\n",
        "    else:\n",
        "      print(\"Shuffled Order\")"
      ],
      "metadata": {
        "colab": {
          "base_uri": "https://localhost:8080/"
        },
        "id": "QE-rOmP20D79",
        "outputId": "84e95a87-cc25-4a2e-89d5-2deba7416efd"
      },
      "execution_count": null,
      "outputs": [
        {
          "output_type": "stream",
          "name": "stdout",
          "text": [
            "[14, 15, 17, 17, 19, 19, 19]--->Sorted Ascending Order\n",
            "[17, 18, 16, 18, 18, 18, 15]--->Shuffled Order\n",
            "[19, 18, 17, 14, 14]--->Sorted Descending Order\n"
          ]
        }
      ]
    },
    {
      "cell_type": "markdown",
      "source": [
        "**Q17. Write a code to merge two sorted lists into a single sorted list.**"
      ],
      "metadata": {
        "id": "MkYzf4Iqjizq"
      }
    },
    {
      "cell_type": "code",
      "source": [
        "lst1 , lst2 = [13, 15, 16, 18, 18, 18, 19],[5, 5, 7, 7, 8, 10, 12]\n",
        "print(f\"List1-->{lst1}\\nList2-->{lst2}\")\n",
        "lst1.extend(lst2); lst1.sort()   #Merging and sorting of two sorted list\n",
        "print(f\"Merged Sorted List-->{lst1}\")"
      ],
      "metadata": {
        "colab": {
          "base_uri": "https://localhost:8080/"
        },
        "id": "vXs1NRhAjpQe",
        "outputId": "37fc476f-7ac9-4739-a492-cb9321cb7195"
      },
      "execution_count": null,
      "outputs": [
        {
          "output_type": "stream",
          "name": "stdout",
          "text": [
            "List1-->[13, 15, 16, 18, 18, 18, 19]\n",
            "List2-->[5, 5, 7, 7, 8, 10, 12]\n",
            "Merged Sorted List-->[5, 5, 7, 7, 8, 10, 12, 13, 15, 16, 18, 18, 18, 19]\n"
          ]
        }
      ]
    },
    {
      "cell_type": "markdown",
      "source": [
        "**Q18. Implement a code to find the intersection of two given lists.**"
      ],
      "metadata": {
        "id": "aNhUZ0imksGI"
      }
    },
    {
      "cell_type": "code",
      "source": [
        "lst1 , lst2 = ['a', 'f', 'g', 'i', 'k', 'q', 'r', 'u', 'y', 'z'],['c', 'd', 'h', 'r', 't', 'v', 'w']\n",
        "if(lst1==[] or lst2==[]):\n",
        "  print(\"Intersection ---> PHI/EMPTY\")\n",
        "else:\n",
        "  print(f\"Intersecting List Items : \")\n",
        "  for i in lst2:\n",
        "    if(i in lst1):\n",
        "      print(f\"{(print(i)for _ in range(min(lst1.count(i),lst2.count(i))))}\")"
      ],
      "metadata": {
        "colab": {
          "base_uri": "https://localhost:8080/"
        },
        "id": "UybGrqbRkt2A",
        "outputId": "aa432c49-b375-46bd-a913-0bd32fce2005"
      },
      "execution_count": null,
      "outputs": [
        {
          "output_type": "stream",
          "name": "stdout",
          "text": [
            "Intersecting List Items : \n",
            "<generator object <genexpr> at 0x780aebeadee0>\n"
          ]
        }
      ]
    },
    {
      "cell_type": "markdown",
      "source": [
        "**Q19. Create a code to find the union of two lists without duplicates**"
      ],
      "metadata": {
        "id": "BH3o0ks_tPl8"
      }
    },
    {
      "cell_type": "code",
      "source": [
        "lst1=[complex(4,23),22, 16, 25, 18, 28, 23, \"Bob\", 22, 18, 16, 12, 19, 18, 28, 15, 27 , \"Bob\" ,\"CAT\"]\n",
        "lst2=[25, 27, 15, 19, 25, 25, 25 , \"Ball\"]\n",
        "print(f\"List1-->{lst1}\\nList2-->{lst2}\\nUNION without duplicate-->{list(set(lst1) | set(lst2))}\")  # Union of two list"
      ],
      "metadata": {
        "colab": {
          "base_uri": "https://localhost:8080/"
        },
        "id": "07qDtEW7tYC5",
        "outputId": "2efdc2b5-1c44-4d49-e941-858e3e0fb7fa"
      },
      "execution_count": null,
      "outputs": [
        {
          "output_type": "stream",
          "name": "stdout",
          "text": [
            "List1-->[(4+23j), 22, 16, 25, 18, 28, 23, 'Bob', 22, 18, 16, 12, 19, 18, 28, 15, 27, 'Bob', 'CAT']\n",
            "List2-->[25, 27, 15, 19, 25, 25, 25, 'Ball']\n",
            "UNION without duplicate-->['Ball', 'Bob', (4+23j), 12, 15, 16, 'CAT', 18, 19, 22, 23, 25, 27, 28]\n"
          ]
        }
      ]
    },
    {
      "cell_type": "markdown",
      "source": [
        "**Q20 Write a code to shuffle a given list randomly without using any built-in shuffle functions.**"
      ],
      "metadata": {
        "id": "sXy3H0_LuZkU"
      }
    },
    {
      "cell_type": "code",
      "source": [],
      "metadata": {
        "id": "ozNs4w0LuaBk"
      },
      "execution_count": null,
      "outputs": []
    },
    {
      "cell_type": "markdown",
      "source": [
        "**Q21. Write a code that takes two tuples as input and returns a new tuple containing elements that are common to both input tuples.**"
      ],
      "metadata": {
        "id": "kcjg3i-VvSMT"
      }
    },
    {
      "cell_type": "code",
      "source": [
        "t1,t2=(25, 26, 17, 22, 20, 25, 22, 23, 27, 16,\"Mat\",\"Bat\"),(16, 22, 27, 21, 21, 21, 15, 25, 19, 16, 26, 21, 27, 20, 20, 25,\"Bob\",\"Cat\",\"Bat\")\n",
        "print(f\"Tuple1-->{t1}\\nTuple2-->{t2}\\nCommon Elements-->{tuple(set(t1) & set(t2))}\")  #intersection of two tuple"
      ],
      "metadata": {
        "colab": {
          "base_uri": "https://localhost:8080/"
        },
        "id": "vxYEUlo4vZLq",
        "outputId": "a27cb486-2c3a-4f75-bf1d-c8994163d800"
      },
      "execution_count": null,
      "outputs": [
        {
          "output_type": "stream",
          "name": "stdout",
          "text": [
            "Tuple1-->(25, 26, 17, 22, 20, 25, 22, 23, 27, 16, 'Mat', 'Bat')\n",
            "Tuple2-->(16, 22, 27, 21, 21, 21, 15, 25, 19, 16, 26, 21, 27, 20, 20, 25, 'Bob', 'Cat', 'Bat')\n",
            "Common Elements-->('Bat', 16, 20, 22, 25, 26, 27)\n"
          ]
        }
      ]
    },
    {
      "cell_type": "markdown",
      "source": [
        "**Q22  Create a code that prompts the user to enter two sets of integers separated by commas. Then, print the intersection of these two sets.**"
      ],
      "metadata": {
        "id": "nXO8iGkjx_BJ"
      }
    },
    {
      "cell_type": "code",
      "source": [
        "s1,s2=set({}),set({})\n",
        "for i in range(int(input(\"Enter a  Limit for the Set 1 length : \"))):\n",
        "  s1.add(int(input(\"Enter an Integer : \")))\n",
        "\n",
        "for i in range(int(input(\"Enter a  Limit for the Set 2 length : \"))):\n",
        "  s2.add(int(input(\"Enter an Integer : \")))\n",
        "\n",
        "print(f\"Set1-->{s1}\\nSet2-->{s2}\\nIntersection-->{s1 & s2}\")  # Intersection of Two Sets"
      ],
      "metadata": {
        "colab": {
          "base_uri": "https://localhost:8080/"
        },
        "id": "Kc5oZ_IRx_bk",
        "outputId": "5e9744bd-f952-45d8-b33e-73cd94c43668"
      },
      "execution_count": null,
      "outputs": [
        {
          "output_type": "stream",
          "name": "stdout",
          "text": [
            "Enter a  Limit for the Set 1 length : 5\n",
            "Enter an Integer : 78\n",
            "Enter an Integer : 12\n",
            "Enter an Integer : 55\n",
            "Enter an Integer : 45\n",
            "Enter an Integer : 96\n",
            "Enter a  Limit for the Set 2 length : 3\n",
            "Enter an Integer : 96\n",
            "Enter an Integer : 55\n",
            "Enter an Integer : 102\n",
            "Set1-->{96, 12, 45, 78, 55}\n",
            "Set2-->{96, 102, 55}\n",
            "Intersection-->{96, 55}\n"
          ]
        }
      ]
    },
    {
      "cell_type": "markdown",
      "source": [
        "**Q23. Write a code to concatenate two tuples. The function should take two tuples as input and return a new tuple containing elements from both input tuples.**"
      ],
      "metadata": {
        "id": "3vP3NS3o5bEh"
      }
    },
    {
      "cell_type": "code",
      "source": [
        "t1,t2=(25, 26, 17, 22, 20, 25, 22, 23, 27, 16,\"Mat\",\"Bat\"),(16, 22, 27, 21, 21, 21, 15, 25,20, 20, 25,\"Bob\",\"Cat\",\"Bat\")\n",
        "\n",
        "def Modify_Tuple(tuple1,tuple2):\n",
        "  return(tuple1+tuple2)   # Merge/Concatinate both tuples\n",
        "print(f\"Tuple1-->{t1}\\nTuple2-->{t2}\\nNew Tuple-->{Modify_Tuple(t1,t2)}\")"
      ],
      "metadata": {
        "colab": {
          "base_uri": "https://localhost:8080/"
        },
        "id": "bTM0lVCp5bn9",
        "outputId": "49b70725-5924-46ef-bd96-5eb6ee4a1c08"
      },
      "execution_count": null,
      "outputs": [
        {
          "output_type": "stream",
          "name": "stdout",
          "text": [
            "Tuple1-->(25, 26, 17, 22, 20, 25, 22, 23, 27, 16, 'Mat', 'Bat')\n",
            "Tuple2-->(16, 22, 27, 21, 21, 21, 15, 25, 20, 20, 25, 'Bob', 'Cat', 'Bat')\n",
            "New Tuple-->(25, 26, 17, 22, 20, 25, 22, 23, 27, 16, 'Mat', 'Bat', 16, 22, 27, 21, 21, 21, 15, 25, 20, 20, 25, 'Bob', 'Cat', 'Bat')\n"
          ]
        }
      ]
    },
    {
      "cell_type": "markdown",
      "source": [
        "**Q24 Develop a code that prompts the user to input two sets of strings. Then, print the elements that are present in the first set but not in the second set.**"
      ],
      "metadata": {
        "id": "SiyzYKhl-0Zj"
      }
    },
    {
      "cell_type": "code",
      "source": [
        "s1,s2=set({}),set({})\n",
        "for i in range(int(input(\"Enter a  Limit for the Set 1 length : \"))):\n",
        "  s1.add((input(\"Enter an String : \")))\n",
        "for i in range(int(input(\"\\nEnter a  Limit for the Set 2 length : \"))):\n",
        "  s2.add((input(\"Enter an String : \")))\n",
        "\n",
        "print(f\"Set1-->{s1}\\nSet2-->{s2}\\nSet Difference-->{s1 - s2}\")   #Set difference S1-S2"
      ],
      "metadata": {
        "id": "gQSg9UeL-0wQ",
        "colab": {
          "base_uri": "https://localhost:8080/"
        },
        "outputId": "9073f6a3-e0b3-4d0d-8862-f888e8c5ebc7"
      },
      "execution_count": 7,
      "outputs": [
        {
          "output_type": "stream",
          "name": "stdout",
          "text": [
            "Enter a  Limit for the Set 1 length : 5\n",
            "Enter an String : kk\n",
            "Enter an String : op\n",
            "Enter an String : ll\n",
            "Enter an String : mm\n",
            "Enter an String : nn\n",
            "\n",
            "Enter a  Limit for the Set 2 length : 4\n",
            "Enter an String : kk\n",
            "Enter an String : k\n",
            "Enter an String : op\n",
            "Enter an String : ol\n",
            "Set1-->{'ll', 'mm', 'kk', 'op', 'nn'}\n",
            "Set2-->{'op', 'k', 'ol', 'kk'}\n",
            "Set Difference-->{'mm', 'll', 'nn'}\n"
          ]
        }
      ]
    },
    {
      "cell_type": "markdown",
      "source": [
        "**Q25 Create a code that takes a tuple and two integers as input. The function should return a new tuple containing elements from the original tuple within the specified range of indices.**"
      ],
      "metadata": {
        "id": "hD1axuiqT6SI"
      }
    },
    {
      "cell_type": "code",
      "source": [
        "a,b=7,11\n",
        "t=(16, 22, 27, 21, 21, 21, 15, 25,20, 20, 25,\"Bob\",\"Cat\",\"Bat\")\n",
        "\n",
        "def Index_Range(tup,id1,id2):\n",
        "  if(len(tup)>=id1 and len(tup)>=id2):\n",
        "    return(tup[min(id1,id2):max(id1,id2)])\n",
        "  else:\n",
        "    print(\"Return of tuple within specified Index Not possible due to out of Index Issue\")\n",
        "\n",
        "print(f\"Elements within specified range of indices-->{Index_Range(t,a,b)}\")"
      ],
      "metadata": {
        "colab": {
          "base_uri": "https://localhost:8080/"
        },
        "id": "oSAanfIDUB2Y",
        "outputId": "f18b532a-b121-416b-a700-08e720417959"
      },
      "execution_count": null,
      "outputs": [
        {
          "output_type": "stream",
          "name": "stdout",
          "text": [
            "Elements within specified range of indices-->(25, 20, 20, 25)\n"
          ]
        }
      ]
    },
    {
      "cell_type": "markdown",
      "source": [
        "**Q26 Write a code that prompts the user to input two sets of characters. Then, print the union of these two sets.**"
      ],
      "metadata": {
        "id": "tu4_mJXcVv6b"
      }
    },
    {
      "cell_type": "code",
      "source": [
        "s1,s2=set({}),set({})\n",
        "for i in range(int(input(\"Enter a  Limit for the Set 1 length : \"))):\n",
        "  s1.add((input(\"Enter a Character : \")))\n",
        "\n",
        "for i in range(int(input(\"Enter a  Limit for the Set 2 length : \"))):\n",
        "  s2.add((input(\"Enter a Character: \")))\n",
        "\n",
        "print(f\"Set1-->{s1}\\nSet2-->{s2}\\nUnion -->{s1 | s2}\")  # Union of of Two Character Sets"
      ],
      "metadata": {
        "colab": {
          "base_uri": "https://localhost:8080/"
        },
        "id": "4bwqWiLvVwbC",
        "outputId": "48ddf843-8e2e-4f83-d472-1f3c66d1e607"
      },
      "execution_count": null,
      "outputs": [
        {
          "output_type": "stream",
          "name": "stdout",
          "text": [
            "Enter a  Limit for the Set 1 length : 5\n",
            "Enter a Character : a\n",
            "Enter a Character : v\n",
            "Enter a Character : g\n",
            "Enter a Character : i\n",
            "Enter a Character : o\n",
            "Enter a  Limit for the Set 2 length : 3\n",
            "Enter a Character: o\n",
            "Enter a Character: p\n",
            "Enter a Character: i\n",
            "Set1-->{'a', 'i', 'v', 'o', 'g'}\n",
            "Set2-->{'o', 'p', 'i'}\n",
            "Intersection-->{'g', 'i', 'o', 'v', 'p', 'a'}\n"
          ]
        }
      ]
    },
    {
      "cell_type": "markdown",
      "source": [
        "**Q27 Develop a code that takes a tuple of integers as input. The function should return the maximum and minimum values from the tuple using tuple unpacking.**"
      ],
      "metadata": {
        "id": "nFHFKZxMYrAC"
      }
    },
    {
      "cell_type": "code",
      "source": [],
      "metadata": {
        "id": "Vixcm3EoYruw"
      },
      "execution_count": null,
      "outputs": []
    },
    {
      "cell_type": "markdown",
      "source": [
        "**Q28 Create a code that defines two sets of integers. Then, print the union, intersection, and difference of these two sets.**"
      ],
      "metadata": {
        "id": "VaBKNYxOojm_"
      }
    },
    {
      "cell_type": "code",
      "source": [
        "s1,s2={15, 16, 17, 18, 19, 20, 21, 22, 23, 24},{16, 18, 19, 21, 22, 23, 24}\n",
        "\n",
        "print(f\"Set1-->{s1}\\nSet2-->{s2}\\nUnion-->{s1|s2}\\nIntersection-->{s1 & s2}\\nDifference-->{s1-s2}\")"
      ],
      "metadata": {
        "colab": {
          "base_uri": "https://localhost:8080/"
        },
        "id": "qP6SIPKHokOR",
        "outputId": "ddfaa8e0-8c2d-41ac-df94-799900439c61"
      },
      "execution_count": 2,
      "outputs": [
        {
          "output_type": "stream",
          "name": "stdout",
          "text": [
            "Set1-->{15, 16, 17, 18, 19, 20, 21, 22, 23, 24}\n",
            "Set2-->{16, 18, 19, 21, 22, 23, 24}\n",
            "Union-->{15, 16, 17, 18, 19, 20, 21, 22, 23, 24}\n",
            "Intersection-->{16, 18, 19, 21, 22, 23, 24}\n",
            "Difference-->{17, 20, 15}\n"
          ]
        }
      ]
    },
    {
      "cell_type": "markdown",
      "source": [
        "**Q29 Write a code that takes a tuple and an element as input. The function should return the count of occurrences of the given element in the tuple.**"
      ],
      "metadata": {
        "id": "CPo22ziWp7Nb"
      }
    },
    {
      "cell_type": "code",
      "source": [
        "def Present(tup,num):\n",
        "  if(num not in tup):\n",
        "    print(f\"The Element {num} is not present in the Tuple\")\n",
        "  else:\n",
        "    print(f\"The number of ocurrence of the element {num} in the Tuple--> {tup.count(num)}\")\n",
        "\n",
        "tup=(16, 22, 27, 21, 21, 21, 15, 25,20, 20, 25);num=21\n",
        "Present(tup,num)"
      ],
      "metadata": {
        "colab": {
          "base_uri": "https://localhost:8080/"
        },
        "id": "UFMs3ktzqBw2",
        "outputId": "c1245ce3-1d4d-4d39-f6a7-1247b15a5848"
      },
      "execution_count": 6,
      "outputs": [
        {
          "output_type": "stream",
          "name": "stdout",
          "text": [
            "The number of ocurrence of the element 21 in the Tuple--> 3\n"
          ]
        }
      ]
    },
    {
      "cell_type": "markdown",
      "source": [
        "**Q30 Develop a code that prompts the user to input two sets of strings. Then, print the symmetric difference of these two sets**"
      ],
      "metadata": {
        "id": "FYLfRgLqr0Oo"
      }
    },
    {
      "cell_type": "code",
      "source": [
        "s1,s2=set({}),set({})\n",
        "for i in range(int(input(\"Enter a  Limit for the Set 1 length : \"))):  # Takes input for set 1\n",
        "  s1.add((input(\"Enter an String : \")))\n",
        "for i in range(int(input(\"\\nEnter a  Limit for the Set 2 length : \"))): #Takes input for set 2\n",
        "  s2.add((input(\"Enter an String : \")))\n",
        "\n",
        "print(f\"Set1-->{s1}\\nSet2-->{s2}\\nSymetricj Difference-->{s1 ^ s2}\")   #Symmetric difference XOR"
      ],
      "metadata": {
        "colab": {
          "base_uri": "https://localhost:8080/"
        },
        "id": "-l6jusGlr0pi",
        "outputId": "8d6b509c-dd9a-42c9-e568-9e46662fdc14"
      },
      "execution_count": 8,
      "outputs": [
        {
          "output_type": "stream",
          "name": "stdout",
          "text": [
            "Enter a  Limit for the Set 1 length : 6\n",
            "Enter an String : op\n",
            "Enter an String : lk\n",
            "Enter an String : io\n",
            "Enter an String : pe\n",
            "Enter an String : tk\n",
            "Enter an String : ff\n",
            "\n",
            "Enter a  Limit for the Set 2 length : 4\n",
            "Enter an String : op\n",
            "Enter an String : i\n",
            "Enter an String : io\n",
            "Enter an String : jk\n",
            "Set1-->{'ff', 'tk', 'io', 'pe', 'lk', 'op'}\n",
            "Set2-->{'op', 'io', 'jk', 'i'}\n",
            "Symetric Difference-->{'ff', 'jk', 'i', 'tk', 'pe', 'lk'}\n"
          ]
        }
      ]
    },
    {
      "cell_type": "markdown",
      "source": [
        "**Q31 Write a code that takes a list of words as input and returns a dictionary where the keys are unique words and the values are the frequencies of those words in the input list.**"
      ],
      "metadata": {
        "id": "c7QUc1nxwfG-"
      }
    },
    {
      "cell_type": "code",
      "source": [
        "def Frequency(lt):\n",
        "  d={}; d=d.fromkeys(set(lst),0)\n",
        "  for i in (d.keys()):\n",
        "    d[i]=d[i]+lt.count(i)\n",
        "  return d\n",
        "\n",
        "lst=[\"Apple\",\"Bob\",\"Cat\",\"Eggs\",\"Bob\",\"Apple\",\"Nokia\",\"Nokia\",\"eggs\",\"Mat\",\"Bat\",\"Pizza\",\"Ice\"]\n",
        "print(f\"Words\\t\\tCount\"); di=Frequency(lst)\n",
        "for i in di.keys():\n",
        "  print(f\"{i}\\t\\t\\t{di[i]}\")"
      ],
      "metadata": {
        "colab": {
          "base_uri": "https://localhost:8080/"
        },
        "id": "ktN194cawes-",
        "outputId": "28e670e0-11c6-4173-c7ce-df8ba0270c1e"
      },
      "execution_count": 9,
      "outputs": [
        {
          "output_type": "stream",
          "name": "stdout",
          "text": [
            "Words\t\tCount\n",
            "Ice\t\t\t1\n",
            "Nokia\t\t\t2\n",
            "Bat\t\t\t1\n",
            "Cat\t\t\t1\n",
            "eggs\t\t\t1\n",
            "Pizza\t\t\t1\n",
            "Eggs\t\t\t1\n",
            "Bob\t\t\t2\n",
            "Mat\t\t\t1\n",
            "Apple\t\t\t2\n"
          ]
        }
      ]
    },
    {
      "cell_type": "markdown",
      "source": [
        "**Q32 Write a code that takes two dictionaries as input and merges them into a single dictionary. If there are common keys, the values should be added together.**"
      ],
      "metadata": {
        "id": "fNfvuZml0XZr"
      }
    },
    {
      "cell_type": "code",
      "source": [
        "di1={\"Name\":\"Bob\",\"Age\":21,\"Weight\":52,\"Country\":'India'};di2={\"Job\":\"SDE\",\"Salary\":52000,\"Country\":\"USA\",\"Weight\":63};  # Two sample dictonary\n",
        "for i in di1.keys():\n",
        "  if(i in di2.keys()):  # Logic to merge common keys\n",
        "    di1[i]=[di1[i]]+[di2[i]]\n",
        "print(di1)"
      ],
      "metadata": {
        "colab": {
          "base_uri": "https://localhost:8080/"
        },
        "id": "5l6XTWIm1VI7",
        "outputId": "cdc10178-2ae2-4caf-d692-345b4c8e1aef"
      },
      "execution_count": 11,
      "outputs": [
        {
          "output_type": "stream",
          "name": "stdout",
          "text": [
            "{'Name': 'Bob', 'Age': 21, 'Weight': [52, 63], 'Country': ['India', 'USA']}\n"
          ]
        }
      ]
    },
    {
      "cell_type": "markdown",
      "source": [
        "**Q33 Write a code to access a value in a nested dictionary. The function should take the dictionary and a list of keys as input, and return the corresponding value. If any of the keys do not exist in the dictionary, the function should return None.**"
      ],
      "metadata": {
        "id": "PT0bCoBZB-T9"
      }
    },
    {
      "cell_type": "code",
      "source": [
        "users = {\n",
        "  \"alice\": {\n",
        "    \"name\": \"Alice Jones\",\n",
        "    \"email\": \"alice.jones@example.com\",\n",
        "    \"interests\": [\"programming\", \"music\"]\n",
        "  },\n",
        "  \"bob\": {\n",
        "    \"name\": \"Bob Smith\",\n",
        "    \"email\": \"bob.smith@example.com\",\n",
        "    \"interests\": [\"sports\", \"reading\"]\n",
        "  }\n",
        "}\n",
        "# def Access(di,lst):"
      ],
      "metadata": {
        "id": "gGCnvjMJCInK"
      },
      "execution_count": null,
      "outputs": []
    },
    {
      "cell_type": "markdown",
      "source": [
        "**Q34 Write a code that takes a dictionary as input and returns a sorted version of it based on the values. You can choose whether to sort in ascending or descending order.**"
      ],
      "metadata": {
        "id": "3B3PG6EaHN4q"
      }
    },
    {
      "cell_type": "code",
      "source": [
        "def Sort_Dict(di):\n",
        "  lst=list(di.values()); lst.sort() ; d={}\n",
        "  for i in lst:\n",
        "    for j in di.keys():\n",
        "      if(i == di[j]):\n",
        "        d[j]=i\n",
        "  return d\n",
        "\n",
        "di={\"Weight\":45,\"Height\":5.2,\"BMI\":55,\"Oxygen Level\":20}\n",
        "print(f\"Sorted Dict {Sort_Dict(di)}\")"
      ],
      "metadata": {
        "colab": {
          "base_uri": "https://localhost:8080/"
        },
        "id": "SVXOR3BHSs-B",
        "outputId": "dd8317be-02e8-4553-d468-9f0e4739e1da"
      },
      "execution_count": 12,
      "outputs": [
        {
          "output_type": "stream",
          "name": "stdout",
          "text": [
            "Sorted Dict {'Height': 5.2, 'Oxygen Level': 20, 'Weight': 45, 'BMI': 55}\n"
          ]
        }
      ]
    },
    {
      "cell_type": "markdown",
      "source": [
        "**Q35 Write a code that inverts a dictionary, swapping keys and values. Ensure that the inverted dictionary correctly handles cases where multiple keys have the same value by storing the keys as a list in the inverted dictionary.**"
      ],
      "metadata": {
        "id": "NpzzZ5rxCITY"
      }
    },
    {
      "cell_type": "code",
      "source": [
        "def fun(d):\n",
        "  di={} ; lst=set(d.keys()) ; di=di.fromkeys(set(d.values()),[]) ;\n",
        "  for i in d.items():\n",
        "    di[i[1]]=di[i[1]]+[i[0]]\n",
        "  return di\n",
        "\n",
        "di={\"Weight\":53,\"Height\":5.2,\"BMI\":52,\"Vision\":-1.5,\"Oxygen Level\":52,\"Bone density\":5.2}\n",
        "#fun(di)\n",
        "print(f\"Original Dictonary --> {di}\\nInverted Dictonary --> {fun(di)}\")"
      ],
      "metadata": {
        "colab": {
          "base_uri": "https://localhost:8080/"
        },
        "id": "Bs_ZPTcrCWGj",
        "outputId": "d14b5974-0d9f-4f22-a852-06889c841691"
      },
      "execution_count": 10,
      "outputs": [
        {
          "output_type": "stream",
          "name": "stdout",
          "text": [
            "Original Dictonary --> {'Weight': 53, 'Height': 5.2, 'BMI': 52, 'Vision': -1.5, 'Oxygen Level': 52, 'Bone density': 5.2}\n",
            "Inverted Dictonary --> {5.2: ['Height', 'Bone density'], 52: ['BMI', 'Oxygen Level'], 53: ['Weight'], -1.5: ['Vision']}\n"
          ]
        }
      ]
    }
  ]
}